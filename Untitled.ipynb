{
 "cells": [
  {
   "cell_type": "code",
   "execution_count": 1,
   "id": "550efa1f",
   "metadata": {},
   "outputs": [],
   "source": [
    "import openai\n",
    "import pandas as pd"
   ]
  },
  {
   "cell_type": "code",
   "execution_count": 3,
   "id": "50cd3b2c",
   "metadata": {},
   "outputs": [],
   "source": [
    "#data_cleaing\n",
    "cc = pd.read_csv('completion.csv', usecols = ['主訴', 'completion'], nrows = 1500)"
   ]
  },
  {
   "cell_type": "code",
   "execution_count": 5,
   "id": "0fba99e4",
   "metadata": {},
   "outputs": [],
   "source": [
    "cc.columns = ['prompt', 'completion']"
   ]
  },
  {
   "cell_type": "code",
   "execution_count": 7,
   "id": "0b0fbba3",
   "metadata": {},
   "outputs": [],
   "source": [
    "cc['prompt'] = cc['prompt'].apply(lambda x: str(x) +'\\n\\n###\\n\\n')"
   ]
  },
  {
   "cell_type": "code",
   "execution_count": 10,
   "id": "48e70af2",
   "metadata": {},
   "outputs": [],
   "source": [
    "cc['completion'] = cc['completion'].apply(lambda x: ' '+str(x) +'###')"
   ]
  },
  {
   "cell_type": "code",
   "execution_count": 14,
   "id": "87905642",
   "metadata": {},
   "outputs": [],
   "source": [
    "cc.to_csv('training.csv', index = False)"
   ]
  },
  {
   "cell_type": "code",
   "execution_count": 2,
   "id": "e13607dd",
   "metadata": {},
   "outputs": [],
   "source": [
    "#singe test\n",
    "r = openai.Completion.create(\n",
    "    model=\"ada:ft-sueyuu-2023-07-13-03-58-59\",\n",
    "    prompt=\"BP:130／ 94, 身高:167．1, 體重:98．3, ＢＭＩ:35．2,\\r體脂:45．5, ＳＭＩ:8．5,\\r高血脂,糖尿病家族史,ACANTHOSIS NIGRICAN,\\r過去報告:A1C 5．4(最高5．6)%, TC 178mg／dl, TG 160mg／dL,\\rLDL 143mg／dL, HDL 34mg／dL, GPT 28, Cre 1．0mg／dl,\\reGFR 93．25,過去體重:98．7－110kg,\\rHEENT:NORMAL, CHEST:CBS, HEART:RHB, EXT:NORMAL．\\rLIFE STYLE INTERVENTION FOR PREDIBETES．\\n\\n###\\n\\n\")\n"
   ]
  },
  {
   "cell_type": "code",
   "execution_count": null,
   "id": "62f6189a",
   "metadata": {},
   "outputs": [],
   "source": [
    "output_text = r.choices[0].text\n",
    "print(output_text)"
   ]
  },
  {
   "cell_type": "code",
   "execution_count": 2,
   "id": "bf9d1a2a",
   "metadata": {},
   "outputs": [],
   "source": [
    "#multiple test\n",
    "test = pd.read_csv('completion.csv', usecols = ['主訴'])"
   ]
  },
  {
   "cell_type": "code",
   "execution_count": 3,
   "id": "49d64c1c",
   "metadata": {},
   "outputs": [],
   "source": [
    "test['主訴'] = test['主訴'].apply(lambda x: str(x)+ '\\n\\n###\\n\\n')"
   ]
  },
  {
   "cell_type": "code",
   "execution_count": null,
   "id": "dbc5b82f",
   "metadata": {},
   "outputs": [],
   "source": [
    "for pt in test['主訴'][1501:1600]:\n",
    "  r = openai.Completion.create(\n",
    "    model= \"curie:ft-sueyuu-2023-07-17-05-54-04\",\n",
    "    prompt= pt,\n",
    "    max_tokens = 500,\n",
    "    stop = [\"###\"])\n",
    "  print(pt)\n",
    "  output_text = r.choices[0].text\n",
    "  print(\"outputs:\"+ output_text + \"outputend\")"
   ]
  },
  {
   "cell_type": "code",
   "execution_count": 11,
   "id": "17837994",
   "metadata": {},
   "outputs": [],
   "source": [
    "lookup = pd.read_csv('training.csv')"
   ]
  },
  {
   "cell_type": "code",
   "execution_count": null,
   "id": "325ad627",
   "metadata": {},
   "outputs": [],
   "source": [
    "lookup"
   ]
  }
 ],
 "metadata": {
  "kernelspec": {
   "display_name": "Python 3 (ipykernel)",
   "language": "python",
   "name": "python3"
  },
  "language_info": {
   "codemirror_mode": {
    "name": "ipython",
    "version": 3
   },
   "file_extension": ".py",
   "mimetype": "text/x-python",
   "name": "python",
   "nbconvert_exporter": "python",
   "pygments_lexer": "ipython3",
   "version": "3.8.17"
  }
 },
 "nbformat": 4,
 "nbformat_minor": 5
}
